{
 "cells": [
  {
   "cell_type": "code",
   "execution_count": null,
   "metadata": {},
   "outputs": [],
   "source": [
    "# utilizando a biblioteca do python para engenharia de dados\n",
    "import pandas as pd\n",
    "\n",
    "# aquivo contendo filmes\n",
    "filmes = pd.read_csv(\"movies.csv\")\n",
    "\n",
    "# alterando o nome das colunas dos dados filmes\n",
    "filmes.columns = [\"filmeId\", \"titulo\", \"genero\"]\n",
    "\n",
    "# Criando o arquivo de indice para busca\n",
    "filmes = filmes.set_index(\"filmeId\")\n",
    "\n",
    "# mostrando os 5 primeiros filmes\n",
    "filmes.head()\n"
   ]
  },
  {
   "cell_type": "code",
   "execution_count": null,
   "metadata": {},
   "outputs": [],
   "source": [
    "# arquivo contendo as notas da votação dos usuarios\n",
    "notas = pd.read_csv(\"ratings.csv\")\n",
    "\n",
    "# alterando os nomes das colunas dos dados de votação\n",
    "notas.columns = [\"usuarioId\", \"filmeId\", \"nota\", \"momento\"]\n",
    "\n",
    "# mostrando as 5 primeiras votação\n",
    "notas.head()\n",
    "notas.describe()\n"
   ]
  },
  {
   "cell_type": "code",
   "execution_count": null,
   "metadata": {},
   "outputs": [],
   "source": [
    "# pegando o campo filme das notas\n",
    "notas[\"filmeId\"]\n"
   ]
  },
  {
   "cell_type": "code",
   "execution_count": null,
   "metadata": {},
   "outputs": [],
   "source": [
    "# total de votos (usuario fez login recomenda ja pode ser feita)\n",
    "total_de_votos = notas[\"filmeId\"].value_counts()\n",
    "total_de_votos.head(10)\n"
   ]
  },
  {
   "cell_type": "code",
   "execution_count": null,
   "metadata": {},
   "outputs": [],
   "source": [
    "# vendo o filme recomendado\n",
    "filmes.loc[356]\n"
   ]
  },
  {
   "cell_type": "code",
   "execution_count": null,
   "metadata": {},
   "outputs": [],
   "source": [
    "# adicionar uma coluna total de votos ( merge da serie e do dataframe)\n",
    "filmes[\"total_de_votos\"] = total_de_votos\n",
    "filmes.head(10)\n"
   ]
  },
  {
   "cell_type": "code",
   "execution_count": null,
   "metadata": {},
   "outputs": [],
   "source": [
    "# pega os filmes ordenado pelo total em ordem descrente\n",
    "filmes.sort_values(\"total_de_votos\", ascending = False ).head(10)\n",
    "notas.head()\n"
   ]
  },
  {
   "cell_type": "code",
   "execution_count": null,
   "metadata": {},
   "outputs": [],
   "source": [
    "# medias das notas dos filmes\n",
    "notas.groupby(\"filmeId\").mean() [\"nota\"]\n",
    "notas_medias = notas.groupby(\"filmeId\").mean() [\"nota\"]\n",
    "notas_medias.head(10\n",
    "notas_medias = notas.groupby(\"filmeId\").mean() [\"nota\"]\n",
    "notas_medias.head(10)\n",
    "filmes[\"nota_media\"] = notas_medias\n",
    "filmes.sort_values(\"total_de_votos\", ascending = False)\n",
    "filmes.query(\"total_de_votos >= 50\").sort_values(\"nota_media\", ascending = False)\n"
   ]
  },
  {
   "cell_type": "code",
   "execution_count": null,
   "metadata": {},
   "outputs": [],
   "source": [
    "# importando a biblioteca panda para trabalhar com dataframes\n",
    "# site do movielens para fazer download de um conjunto de dados\n",
    "import pandas as pd\n",
    "import numpy as np\n",
    "\n",
    "# arquivo contendo os filmes \n",
    "filmes = pd.read_csv(r\"C:\\Users\\NiL\\Documents\\MEGA\\[ProfessorLima.Com.Br]\\Prg\\Python\\RecSys\\dados\\movies.csv\")\n",
    "\n",
    "# Alterando o nome das colunas dos dados filmes\n",
    "filmes.columns = [\"filmeId\", \"titulo\", \"genero\"]\n",
    "\n",
    "# Criando o arquivo de indice para busca\n",
    "filmes = filmes.set_index(\"filmeId\")\n",
    "\n",
    "# mostrando os 5 primeiros filmes\n",
    "filmes.head()\n"
   ]
  },
  {
   "cell_type": "code",
   "execution_count": null,
   "metadata": {},
   "outputs": [],
   "source": [
    "# arquivo contendo as notas da votação dos usuarios\n",
    "notas = pd.read_csv(r\"C:\\Users\\NiL\\Documents\\MEGA\\[ProfessorLima.Com.Br]\\Prg\\Python\\RecSys\\dados\\ratings.csv\")\n",
    "\n",
    "# alterando os nomes das colunas dos dados de votação\n",
    "notas.columns = [\"usuarioId\", \"filmeId\", \"nota\", \"momento\"]\n",
    "\n",
    "# mostrando os 5 primeiras votação\n",
    "notas.head()\n"
   ]
  },
  {
   "cell_type": "code",
   "execution_count": null,
   "metadata": {},
   "outputs": [],
   "source": [
    "# Gerarando estatísticas descritivas\n",
    "notas.describe()\n"
   ]
  },
  {
   "cell_type": "code",
   "execution_count": null,
   "metadata": {},
   "outputs": [],
   "source": [
    "#pegando o campo filme das nota\n",
    "notas[\"filmeId\"]\n"
   ]
  },
  {
   "cell_type": "code",
   "execution_count": null,
   "metadata": {},
   "outputs": [],
   "source": [
    "# contando quantas usuarios deram as notas para os filmes - counts - conta a frequencia\n",
    "notas['filmeId'].value_counts()\n",
    "total_de_votos = notas['filmeId'].value_counts()\n",
    "total_de_votos.head(10)\n"
   ]
  },
  {
   "cell_type": "code",
   "execution_count": null,
   "metadata": {},
   "outputs": [],
   "source": [
    "# vendo qual o filme recomendado\n",
    "filmes.loc[356]\n"
   ]
  },
  {
   "cell_type": "code",
   "execution_count": null,
   "metadata": {},
   "outputs": [],
   "source": [
    "# adicionando uma coluna total de votos (merge da serie e do dataframe)\n",
    "filmes[\"total_de_votos\"] = total_de_votos\n",
    "filmes.head(10)\n"
   ]
  },
  {
   "cell_type": "code",
   "execution_count": null,
   "metadata": {},
   "outputs": [],
   "source": [
    "# pega os filmes ordenado pelo total de votos em ordem decrescente\n",
    "filmes.sort_values(\"total_de_votos\", ascending = False).head(10)\n"
   ]
  },
  {
   "cell_type": "code",
   "execution_count": null,
   "metadata": {},
   "outputs": [],
   "source": [
    "# mostrando os 5 primeiras notas (votação)\n",
    "notas.head()\n"
   ]
  },
  {
   "cell_type": "code",
   "execution_count": null,
   "metadata": {},
   "outputs": [],
   "source": [
    "# calculando a media das notas (votação) dos filmes\n",
    "notas.groupby(\"filmeId\").mean() [\"nota\"]\n"
   ]
  },
  {
   "cell_type": "code",
   "execution_count": null,
   "metadata": {},
   "outputs": [],
   "source": [
    "# nota medias dos filmes (agrupando pelo filmeId)\n",
    "notas_medias = notas.groupby(\"filmeId\").mean() [\"nota\"]\n",
    "notas_medias.head()\n"
   ]
  },
  {
   "cell_type": "code",
   "execution_count": null,
   "metadata": {},
   "outputs": [],
   "source": [
    "# colocando as notas medias no dataframe do filmes\n",
    "filmes[\"nota_media\"] = notas_medias\n",
    "filmes.sort_values(\"total_de_votos\", ascending = False).head(10)\n"
   ]
  },
  {
   "cell_type": "code",
   "execution_count": null,
   "metadata": {},
   "outputs": [],
   "source": [
    "#filmes com nota media mais alta (mas nesse caso não é o melhor filme)\n",
    "filmes.sort_values(\"nota_media\", ascending = False).head(10)\n"
   ]
  },
  {
   "cell_type": "code",
   "execution_count": null,
   "metadata": {},
   "outputs": [],
   "source": [
    "# filmes que tiraram a nota mais alta\n",
    "filmes.query(\"total_de_votos > 50\").sort_values(\"nota_media\", ascending = False).head(10)\n",
    "filmes_com_mais_de_50_votos = filmes.query(\"total_de_votos > 50\")\n",
    "filmes_com_mais_de_50_votos.sort_values(\"nota_media\", ascending = False).head(10)\n",
    "eu_assisti = [1,21,19,10,11,7,2]\n",
    "filmes.loc[eu_assisti]\n"
   ]
  },
  {
   "cell_type": "code",
   "execution_count": null,
   "metadata": {},
   "outputs": [],
   "source": [
    "#fimes que são do genero do ultimo filme que eu assisti\n",
    "filmes.query(\"genero=='Adventure|Children|Fantasy'\").head(5)\n",
    "filmes.query(\"genero=='Adventure|Children|Fantasy'\").sort_values(\"nota_media\", ascending = False).head(5)\n",
    "filmes.query(\"genero=='Adventure|Children|Fantasy'\").sort_values(\"nota_media\", ascending = False).head(5)\n",
    "aventura_infantil_e_fantasia = filmes_com_mais_de_50_votos.query(\"genero=='Adventure|Children|Fantasy'\")\n",
    "aventura_infantil_e_fantasia.sort_values(\"nota_media\", ascending = False).head(5)\n"
   ]
  }
 ],
 "metadata": {
  "interpreter": {
   "hash": "568466bb25d6ff4ba09040faff39a3948d909562a0f6aaf4ec63430612d6f673"
  },
  "kernelspec": {
   "display_name": "Python 3.10.4 64-bit",
   "language": "python",
   "name": "python3"
  },
  "language_info": {
   "name": "python",
   "version": "3.10.4"
  },
  "orig_nbformat": 4
 },
 "nbformat": 4,
 "nbformat_minor": 2
}
